{
  "nbformat": 4,
  "nbformat_minor": 0,
  "metadata": {
    "colab": {
      "name": "ML-exercise-2-hyperopt.ipynb",
      "provenance": [],
      "collapsed_sections": []
    },
    "kernelspec": {
      "name": "python3",
      "display_name": "Python 3"
    },
    "language_info": {
      "name": "python"
    }
  },
  "cells": [
    {
      "cell_type": "markdown",
      "source": [
        "**Install hyperopt**"
      ],
      "metadata": {
        "id": "7NfPF6u5EqBg"
      }
    },
    {
      "cell_type": "code",
      "execution_count": null,
      "metadata": {
        "id": "Gik8sP94Cug7"
      },
      "outputs": [],
      "source": [
        "!pip install git+https://github.com/hyperopt/hyperopt-sklearn"
      ]
    },
    {
      "cell_type": "markdown",
      "source": [
        "**Imports**"
      ],
      "metadata": {
        "id": "O6PsGCqoFlYu"
      }
    },
    {
      "cell_type": "code",
      "source": [
        "import io\n",
        "import numpy as np\n",
        "\n",
        "from hyperopt import tpe\n",
        "from hpsklearn import HyperoptEstimator, knn_regression, svr_linear\n",
        "from sklearn.model_selection import cross_val_score, train_test_split"
      ],
      "metadata": {
        "id": "lCH_3LM8FqaP"
      },
      "execution_count": null,
      "outputs": []
    },
    {
      "cell_type": "markdown",
      "source": [
        "**Flares dataset**"
      ],
      "metadata": {
        "id": "K86hf5y2GL5j"
      }
    },
    {
      "cell_type": "code",
      "source": [
        "X = np.loadtxt('../datasets/exercise2/solarflares/flare_input.data',delimiter=\";\")\n",
        "y = np.loadtxt('../datasets/exercise2/solarflares/flare_classes.data',delimiter=\";\")[:,0]\n",
        "\n",
        "X_train, X_test, y_train, y_test = train_test_split(X, y, test_size=0.33, random_state=42)\n",
        "\n",
        "estim_knn_f = HyperoptEstimator(regressor=knn_regression(\"knn-reg\"),\n",
        "                          preprocessing=[],\n",
        "                          algo=tpe.suggest,\n",
        "                          max_evals=10,\n",
        "                          trial_timeout=300)\n",
        "\n",
        "estim_lsvr_f = HyperoptEstimator(regressor=svr_linear(\"lsvr-reg\"),\n",
        "                          preprocessing=[],\n",
        "                          algo=tpe.suggest,\n",
        "                          max_evals=10,\n",
        "                          trial_timeout=300)\n",
        "\n",
        "estim_knn_f.fit(X_train, y_train)\n",
        "estim_lsvr_f.fit(X_train, y_train)\n",
        "\n",
        "X_train, X_test, y_train, y_test = train_test_split(X, y, test_size=0.33, random_state=42)\n",
        "\n",
        "print(estim_knn_f.score(X_test, y_test))\n",
        "print(estim_knn_f.best_model())\n",
        "\n",
        "nmse_score = cross_val_score(estim_knn_f.best_model()[\"learner\"], X, y, cv=5, scoring='neg_mean_squared_error')\n",
        "r2_score = cross_val_score(estim_knn_f.best_model()[\"learner\"], X, y, cv=5, scoring='r2')\n",
        "\n",
        "print(\"KNN\")\n",
        "print(\"nmse:\", sum(nmse_score)/len(nmse_score))\n",
        "print(\"r2:\", sum(r2_score)/len(r2_score))\n",
        "\n",
        "print(estim_lsvr_f.score(X_test, y_test))\n",
        "print(estim_lsvr_f.best_model())\n",
        "\n",
        "nmse_score = cross_val_score(estim_lsvr_f.best_model()[\"learner\"], X, y, cv=5, scoring='neg_mean_squared_error')\n",
        "r2_score = cross_val_score(estim_lsvr_f.best_model()[\"learner\"], X, y, cv=5, scoring='r2')\n",
        "\n",
        "print(\"LinearSVR\")\n",
        "print(\"nmse:\", sum(nmse_score)/len(nmse_score))\n",
        "print(\"r2:\", sum(r2_score)/len(r2_score))"
      ],
      "metadata": {
        "id": "P5v1cQO6F8P4"
      },
      "execution_count": null,
      "outputs": []
    },
    {
      "cell_type": "markdown",
      "source": [
        "**White wine dataset**"
      ],
      "metadata": {
        "id": "ldzC63gZO2Qa"
      }
    },
    {
      "cell_type": "code",
      "source": [
        "X = np.loadtxt('../datasets/exercise2/wine/wine_white_input.data',delimiter=\";\")\n",
        "y = np.loadtxt('../datasets/exercise2/wine/wine_white_classes.data',delimiter=\";\")\n",
        "\n",
        "X_train, X_test, y_train, y_test = train_test_split(X, y, test_size=0.33, random_state=42)\n",
        "\n",
        "estim_knn_ww = HyperoptEstimator(regressor=knn_regression(\"knn-reg\"),\n",
        "                          preprocessing=[],\n",
        "                          algo=tpe.suggest,\n",
        "                          max_evals=10,\n",
        "                          trial_timeout=300)\n",
        "\n",
        "estim_lsvr_ww = HyperoptEstimator(regressor=svr_linear(\"lsvr-reg\"),\n",
        "                          preprocessing=[],\n",
        "                          algo=tpe.suggest,\n",
        "                          max_evals=10,\n",
        "                          trial_timeout=300)\n",
        "\n",
        "estim_knn_ww.fit(X_train, y_train)\n",
        "estim_lsvr_ww.fit(X_train, y_train)\n",
        "\n",
        "X_train, X_test, y_train, y_test = train_test_split(X, y, test_size=0.33, random_state=42)\n",
        "\n",
        "print(estim_knn_ww.score(X_test, y_test))\n",
        "print(estim_knn_ww.best_model())\n",
        "\n",
        "nmse_score = cross_val_score(estim_knn_ww.best_model()[\"learner\"], X, y, cv=5, scoring='neg_mean_squared_error')\n",
        "r2_score = cross_val_score(estim_knn_ww.best_model()[\"learner\"], X, y, cv=5, scoring='r2')\n",
        "\n",
        "print(\"KNN\")\n",
        "print(\"nmse:\", sum(nmse_score)/len(nmse_score))\n",
        "print(\"r2:\", sum(r2_score)/len(r2_score))\n",
        "\n",
        "print(estim_lsvr_ww.score(X_test, y_test))\n",
        "print(estim_lsvr_ww.best_model())\n",
        "\n",
        "nmse_score = cross_val_score(estim_lsvr_ww.best_model()[\"learner\"], X, y, cv=5, scoring='neg_mean_squared_error')\n",
        "r2_score = cross_val_score(estim_lsvr_ww.best_model()[\"learner\"], X, y, cv=5, scoring='r2')\n",
        "\n",
        "print(\"LinearSVR\")\n",
        "print(\"nmse:\", sum(nmse_score)/len(nmse_score))\n",
        "print(\"r2:\", sum(r2_score)/len(r2_score))"
      ],
      "metadata": {
        "id": "OcIByZVvO1jA"
      },
      "execution_count": null,
      "outputs": []
    },
    {
      "cell_type": "markdown",
      "source": [
        "**Red wine dataset**"
      ],
      "metadata": {
        "id": "LEurIzAuQhmX"
      }
    },
    {
      "cell_type": "code",
      "source": [
        "X = np.loadtxt('../datasets/exercise2/wine/wine_red_input.data',delimiter=\";\")\n",
        "y = np.loadtxt('../datasets/exercise2/wine/wine_red_classes.data',delimiter=\";\")\n",
        "\n",
        "X_train, X_test, y_train, y_test = train_test_split(X, y, test_size=0.33, random_state=42)\n",
        "\n",
        "estim_knn_wr = HyperoptEstimator(regressor=knn_regression(\"knn-reg\"),\n",
        "                          preprocessing=[],\n",
        "                          algo=tpe.suggest,\n",
        "                          max_evals=10,\n",
        "                          trial_timeout=300)\n",
        "\n",
        "estim_lsvr_wr = HyperoptEstimator(regressor=svr_linear(\"lsvr-reg\"),\n",
        "                          preprocessing=[],\n",
        "                          algo=tpe.suggest,\n",
        "                          max_evals=10,\n",
        "                          trial_timeout=300)\n",
        "\n",
        "estim_knn_wr.fit(X_train, y_train)\n",
        "estim_lsvr_wr.fit(X_train, y_train)\n",
        "\n",
        "X_train, X_test, y_train, y_test = train_test_split(X, y, test_size=0.33, random_state=42)\n",
        "\n",
        "print(estim_knn_wr.score(X_test, y_test))\n",
        "print(estim_knn_wr.best_model())\n",
        "\n",
        "nmse_score = cross_val_score(estim_knn_wr.best_model()[\"learner\"], X, y, cv=5, scoring='neg_mean_squared_error')\n",
        "r2_score = cross_val_score(estim_knn_wr.best_model()[\"learner\"], X, y, cv=5, scoring='r2')\n",
        "\n",
        "print(\"KNN\")\n",
        "print(\"nmse:\", sum(nmse_score)/len(nmse_score))\n",
        "print(\"r2:\", sum(r2_score)/len(r2_score))\n",
        "\n",
        "print(estim_lsvr_wr.score(X_test, y_test))\n",
        "print(estim_lsvr_wr.best_model())\n",
        "\n",
        "nmse_score = cross_val_score(estim_lsvr_wr.best_model()[\"learner\"], X, y, cv=5, scoring='neg_mean_squared_error')\n",
        "r2_score = cross_val_score(estim_lsvr_wr.best_model()[\"learner\"], X, y, cv=5, scoring='r2')\n",
        "\n",
        "print(\"LinearSVR\")\n",
        "print(\"nmse:\", sum(nmse_score)/len(nmse_score))\n",
        "print(\"r2:\", sum(r2_score)/len(r2_score))"
      ],
      "metadata": {
        "id": "JyG9LRtOQgzj"
      },
      "execution_count": null,
      "outputs": []
    },
    {
      "cell_type": "markdown",
      "source": [
        "**Covid dataset**"
      ],
      "metadata": {
        "id": "ckBJfRlYTG7R"
      }
    },
    {
      "cell_type": "code",
      "source": [
        "X = np.loadtxt('../datasets/exercise2/covid/covid-vaccination-vs-death_ratio_input.data',delimiter=\";\")\n",
        "y = np.loadtxt('../datasets/exercise2/covid/covid-vaccination-vs-death_ratio_classes.data',delimiter=\";\")\n",
        "\n",
        "X_train, X_test, y_train, y_test = train_test_split(X, y, test_size=0.33, random_state=42)\n",
        "\n",
        "estim_knn_c = HyperoptEstimator(regressor=knn_regression(\"knn-reg\"),\n",
        "                          preprocessing=[],\n",
        "                          algo=tpe.suggest,\n",
        "                          max_evals=10,\n",
        "                          trial_timeout=300)\n",
        "\n",
        "estim_lsvr_c = HyperoptEstimator(regressor=svr_linear(\"lsvr-reg\"),\n",
        "                          preprocessing=[],\n",
        "                          algo=tpe.suggest,\n",
        "                          max_evals=10,\n",
        "                          trial_timeout=300)\n",
        "\n",
        "estim_knn_c.fit(X_train, y_train)\n",
        "estim_lsvr_c.fit(X_train, y_train)\n",
        "\n",
        "X_train, X_test, y_train, y_test = train_test_split(X, y, test_size=0.33, random_state=42)\n",
        "\n",
        "print(estim_knn_c.score(X_test, y_test))\n",
        "print(estim_knn_c.best_model())\n",
        "\n",
        "nmse_score = cross_val_score(estim_knn_c.best_model()[\"learner\"], X, y, cv=5, scoring='neg_mean_squared_error')\n",
        "r2_score = cross_val_score(estim_knn_c.best_model()[\"learner\"], X, y, cv=5, scoring='r2')\n",
        "\n",
        "print(\"KNN\")\n",
        "print(\"nmse:\", sum(nmse_score)/len(nmse_score))\n",
        "print(\"r2:\", sum(r2_score)/len(r2_score))\n",
        "\n",
        "print(estim_lsvr_c.score(X_test, y_test))\n",
        "print(estim_lsvr_c.best_model())\n",
        "\n",
        "nmse_score = cross_val_score(estim_lsvr_c.best_model()[\"learner\"], X, y, cv=5, scoring='neg_mean_squared_error')\n",
        "r2_score = cross_val_score(estim_lsvr_c.best_model()[\"learner\"], X, y, cv=5, scoring='r2')\n",
        "\n",
        "print(\"LinearSVR\")\n",
        "print(\"nmse:\", sum(nmse_score)/len(nmse_score))\n",
        "print(\"r2:\", sum(r2_score)/len(r2_score))"
      ],
      "metadata": {
        "id": "rph1sHJlTJye"
      },
      "execution_count": null,
      "outputs": []
    }
  ]
}