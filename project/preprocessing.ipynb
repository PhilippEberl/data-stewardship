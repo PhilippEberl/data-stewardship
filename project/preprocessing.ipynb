{
 "cells": [
  {
   "cell_type": "markdown",
   "id": "be7498d5",
   "metadata": {},
   "source": [
    "## Imports"
   ]
  },
  {
   "cell_type": "code",
   "execution_count": 1,
   "id": "73d4804c",
   "metadata": {},
   "outputs": [],
   "source": [
    "from sklearn.impute import SimpleImputer\n",
    "import numpy as np\n",
    "import re\n",
    "import datetime as dt"
   ]
  },
  {
   "cell_type": "markdown",
   "id": "8d6b356c",
   "metadata": {},
   "source": [
    "## Functions for preprocessing"
   ]
  },
  {
   "cell_type": "code",
   "execution_count": 2,
   "id": "877c3d9b",
   "metadata": {},
   "outputs": [],
   "source": [
    "def convert_to_numeric(vocabulary, line_arr, ignore=[], nanval=\"\"):\n",
    "\tret = []\n",
    "\n",
    "\tfor i, attr in enumerate(line_arr):\n",
    "\t\tif i in ignore:\n",
    "\t\t\tret.append(attr)\n",
    "\t\t\tcontinue\n",
    "\n",
    "\t\tif attr.replace(\".\",\"\").isnumeric():\n",
    "\t\t\tif \".\" in attr:\n",
    "\t\t\t\tret.append(float(attr))\n",
    "\t\t\telse:\n",
    "\t\t\t\tret.append(int(attr))\n",
    "\t\t\tcontinue\n",
    "\n",
    "\t\tif i not in vocabulary:\n",
    "\t\t\tvocabulary[i] = {}\n",
    "\t\t\tif nanval != \"\":\n",
    "\t\t\t\tvocabulary[i][nanval] = -1\n",
    "\n",
    "\t\tif attr not in vocabulary[i]:\n",
    "\t\t\tvocabulary[i][attr] = int(list(vocabulary[i].values())[-1] + 1 if len(vocabulary[i]) > 0 else 0)\n",
    "\n",
    "\t\tret.append(vocabulary[i][attr])\n",
    "\n",
    "\treturn ret\n",
    "\n",
    "def one_to_n(data, columns):\n",
    "\t# find number of elements per column\n",
    "\telnum = [0] * len(columns)\n",
    "\tfor line in data:\n",
    "\t\tfor i in range(len(columns)):\n",
    "\t\t\telnum[i] = max(line[columns[i]]+1, elnum[i])\n",
    "\n",
    "\t# convert columns\n",
    "\tret = []\n",
    "\tfor line in data:\n",
    "\t\tprev = 0\n",
    "\t\tarr = []\n",
    "\t\tfor i in range(len(columns)):\n",
    "\t\t\tconv = [0] * elnum[i]\n",
    "\t\t\tconv[line[columns[i]]] = 1\n",
    "\n",
    "\t\t\tarr += list(line[prev:columns[i]]) + conv\n",
    "\t\t\tprev = columns[i] + 1\n",
    "\t\tarr += list(line[prev:])\n",
    "\t\tret.append(arr)\n",
    "\n",
    "\treturn ret\n",
    "\n",
    "def convert_date_to_unix_time(data, columns):\n",
    "\tepoch = dt.datetime.utcfromtimestamp(0)\n",
    "\n",
    "\tret = []\n",
    "\tfor line in data:\n",
    "\t\tprev = 0\n",
    "\t\tarr = []\n",
    "\t\tfor i in range(len(columns)):\n",
    "\t\t\tconv = int((dt.datetime.strptime(line[columns[i]], \"%Y-%m-%d\") - epoch).total_seconds() * 1000.0)\n",
    "\n",
    "\t\t\tarr += list(line[prev:columns[i]]) + [conv]\n",
    "\t\t\tprev = columns[i] + 1\n",
    "\t\tarr += list(line[prev:])\n",
    "\t\tret.append(arr)\n",
    "\n",
    "\treturn ret\n",
    "\n",
    "def join_array(array, seperator=\";\"):\n",
    "\tif len(array) > 0:\n",
    "\t\tret = str(array[0])\n",
    "\telse:\n",
    "\t\treturn \"\"\n",
    "\n",
    "\tfor i in array[1:]:\n",
    "\t\tret += \";\" + str(i)\n",
    "\n",
    "\treturn ret"
   ]
  },
  {
   "cell_type": "markdown",
   "id": "08a8b9e0",
   "metadata": {},
   "source": [
    "## Solar flares\n",
    "\n",
    "For this dataset a conversion to numeric values and one_to_n encoding was performed."
   ]
  },
  {
   "cell_type": "code",
   "execution_count": 3,
   "id": "4b54dae0",
   "metadata": {},
   "outputs": [],
   "source": [
    "def convert_solar_flairs():\n",
    "\tdata = []\n",
    "\tvocabulary = {}\n",
    "\n",
    "\t# open file\n",
    "\twith open(\"../datasets/solarflares/flare.data\", \"r\") as f:\n",
    "\t\tfl = True\n",
    "\t\tfor l in f:\n",
    "\t\t\tif fl: fl = False; continue\n",
    "\t\t\tline_arr = l.strip().split(\" \")\n",
    "\t\t\tline_arr = convert_to_numeric(vocabulary, line_arr, nanval=\"\")\n",
    "\t\t\tdata.append(line_arr)\n",
    "\n",
    "\tdata = one_to_n(data, [0,1,2])\n",
    "\n",
    "\t# save converted\n",
    "\twith open(\"../datasets/solarflares/flare_conv.data\", \"w\") as f:\n",
    "\t\tfor d in data:\n",
    "\t\t\tf.write(join_array(d) + \"\\n\")\n",
    "\n",
    "\t# save input data\n",
    "\twith open(\"../datasets/solarflares/flare_input.data\", \"w\") as f:\n",
    "\t\tfor d in data:\n",
    "\t\t\tf.write(join_array(d[0:-3]) + \"\\n\")\n",
    "\n",
    "\t# save class ids\n",
    "\twith open(\"../datasets/solarflares/flare_classes.data\", \"w\") as f:\n",
    "\t\tfor d in data:\n",
    "\t\t\tf.write(join_array(d[-3:]) + \"\\n\")"
   ]
  },
  {
   "cell_type": "markdown",
   "id": "530599fc",
   "metadata": {},
   "source": [
    "## Wine\n",
    "\n",
    "Since the wine dataset consists only of numeric values there was no need for preprocessing appart of splitting into input and output file."
   ]
  },
  {
   "cell_type": "code",
   "execution_count": 4,
   "id": "5d1cd9d0",
   "metadata": {},
   "outputs": [],
   "source": [
    "def convert_wine():\n",
    "\tfor s in [\"red\", \"white\"]:\n",
    "\t\tdata = []\n",
    "\t\tvocabulary = {}\n",
    "\n",
    "\t\t# open file\n",
    "\t\twith open(\"../datasets/wine/winequality-\" + s + \".csv\", \"r\") as f:\n",
    "\t\t\tfl = True\n",
    "\t\t\tfor l in f:\n",
    "\t\t\t\tif fl: fl = False; continue\n",
    "\t\t\t\tline_arr = l.strip().split(\";\")\n",
    "\t\t\t\tline_arr = convert_to_numeric(vocabulary, line_arr, nanval=\"\")\n",
    "\t\t\t\tdata.append(line_arr)\n",
    "\n",
    "\t\t# save converted\n",
    "\t\twith open(\"../datasets/wine/wine_\" + s + \"_conv.data\", \"w\") as f:\n",
    "\t\t\tfor d in data:\n",
    "\t\t\t\tf.write(join_array(d) + \"\\n\")\n",
    "\n",
    "\t\t# save input data\n",
    "\t\twith open(\"../datasets/wine/wine_\" + s + \"_input.data\", \"w\") as f:\n",
    "\t\t\tfor d in data:\n",
    "\t\t\t\tf.write(join_array(d[0:-1]) + \"\\n\")\n",
    "\n",
    "\t\t# save class ids\n",
    "\t\twith open(\"../datasets/wine/wine_\" + s + \"_classes.data\", \"w\") as f:\n",
    "\t\t\tfor d in data:\n",
    "\t\t\t\tf.write(str(d[-1]) + \"\\n\")"
   ]
  },
  {
   "cell_type": "markdown",
   "id": "5a65ba46",
   "metadata": {},
   "source": [
    "## Covid\n",
    "\n",
    "The covid dataset consists of numeric, date and categorical values. For the categorical values, a one-to-n encoding was performed, the date values were converted to unix time and the numerical values were normalizen using the population of the variouse countries."
   ]
  },
  {
   "cell_type": "code",
   "execution_count": 5,
   "id": "0751f8fc",
   "metadata": {},
   "outputs": [],
   "source": [
    "def convert_covid():\n",
    "\tdata = []\n",
    "\tvocabulary = {}\n",
    "\n",
    "\t# open file\n",
    "\twith open(\"../datasets/covid/covid-vaccination-vs-death_ratio.csv\", \"r\") as f:\n",
    "\t\tfl = True\n",
    "\t\tfor l in f:\n",
    "\t\t\tif fl: fl = False; continue\n",
    "\t\t\tline_arr = l.strip().replace(\", \", \" \").split(\",\")\n",
    "\t\t\tline_arr = convert_to_numeric(vocabulary, line_arr[1:], ignore=[2], nanval=\"\")\n",
    "\t\t\tdata.append(line_arr)\n",
    "\n",
    "\tdata = convert_date_to_unix_time(data, [2])\n",
    "\n",
    "\tfor line in data:\n",
    "\t\tline[3] = line[3]/line[7]\n",
    "\t\tline[4] = line[4]/line[7]\n",
    "\t\tline[5] = line[5]/line[7]\n",
    "\t\tline[6] = line[6]/line[7]\n",
    "\n",
    "\n",
    "\tdata = one_to_n(data, [0,1])\n",
    "\n",
    "\t# save converted\n",
    "\twith open(\"../datasets/covid/covid-vaccination-vs-death_ratio_conv.data\", \"w\") as f:\n",
    "\t\tfor d in data:\n",
    "\t\t\tf.write(join_array(d) + \"\\n\")\n",
    "\n",
    "\t# save input data\n",
    "\twith open(\"../datasets/covid/covid-vaccination-vs-death_ratio_input.data\", \"w\") as f:\n",
    "\t\tfor d in data:\n",
    "\t\t\tf.write(join_array(d[0:-1]) + \"\\n\")\n",
    "\n",
    "\t# save class ids\n",
    "\twith open(\"../datasets/covid/covid-vaccination-vs-death_ratio_classes.data\", \"w\") as f:\n",
    "\t\tfor d in data:\n",
    "\t\t\tf.write(str(d[-1]) + \"\\n\")"
   ]
  },
  {
   "cell_type": "code",
   "execution_count": 6,
   "id": "d8c19dfc",
   "metadata": {},
   "outputs": [
    {
     "name": "stdout",
     "output_type": "stream",
     "text": [
      "converted solar flares dataset\n",
      "converted wine dataset\n",
      "converted covid dataset\n"
     ]
    }
   ],
   "source": [
    "convert_solar_flairs()\n",
    "print(\"converted solar flares dataset\")\n",
    "convert_wine()\n",
    "print(\"converted wine dataset\")\n",
    "convert_covid()\n",
    "print(\"converted covid dataset\")"
   ]
  }
 ],
 "metadata": {
  "kernelspec": {
   "display_name": "Python 3 (ipykernel)",
   "language": "python",
   "name": "python3"
  },
  "language_info": {
   "codemirror_mode": {
    "name": "ipython",
    "version": 3
   },
   "file_extension": ".py",
   "mimetype": "text/x-python",
   "name": "python",
   "nbconvert_exporter": "python",
   "pygments_lexer": "ipython3",
   "version": "3.8.3"
  }
 },
 "nbformat": 4,
 "nbformat_minor": 5
}
