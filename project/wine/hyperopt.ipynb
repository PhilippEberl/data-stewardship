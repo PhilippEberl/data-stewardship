{
  "cells": [
    {
      "cell_type": "markdown",
      "metadata": {
        "id": "7NfPF6u5EqBg"
      },
      "source": [
        "**Install hyperopt**"
      ]
    },
    {
      "cell_type": "code",
      "execution_count": null,
      "metadata": {
        "id": "Gik8sP94Cug7"
      },
      "outputs": [],
      "source": [
        "#!pip install git+https://github.com/hyperopt/hyperopt-sklearn"
      ]
    },
    {
      "cell_type": "markdown",
      "metadata": {
        "id": "O6PsGCqoFlYu"
      },
      "source": [
        "**Imports**"
      ]
    },
    {
      "cell_type": "code",
      "execution_count": null,
      "metadata": {
        "id": "lCH_3LM8FqaP"
      },
      "outputs": [],
      "source": [
        "import io\n",
        "import numpy as np\n",
        "import matplotlib.pyplot as plt\n",
        "\n",
        "from hyperopt import tpe\n",
        "from hpsklearn import HyperoptEstimator, k_neighbors_regressor, linear_svr\n",
        "from sklearn.model_selection import cross_val_score, train_test_split"
      ]
    },
    {
      "cell_type": "markdown",
      "metadata": {
        "id": "ldzC63gZO2Qa"
      },
      "source": [
        "**White wine dataset**"
      ]
    },
    {
      "cell_type": "code",
      "execution_count": null,
      "metadata": {
        "id": "OcIByZVvO1jA"
      },
      "outputs": [],
      "source": [
        "X = np.loadtxt('../../datasets/wine/wine_white_input.data',delimiter=\";\")\n",
        "y = np.loadtxt('../../datasets/wine/wine_white_classes.data',delimiter=\";\")\n",
        "\n",
        "X_train, X_test, y_train, y_test = train_test_split(X, y, test_size=0.33, random_state=42)\n",
        "\n",
        "estim_knn_ww = HyperoptEstimator(regressor=k_neighbors_regressor(\"knn-reg\"),\n",
        "                          preprocessing=[],\n",
        "                          algo=tpe.suggest,\n",
        "                          max_evals=10,\n",
        "                          trial_timeout=300)\n",
        "\n",
        "estim_lsvr_ww = HyperoptEstimator(regressor=linear_svr(\"lsvr-reg\"),\n",
        "                          preprocessing=[],\n",
        "                          algo=tpe.suggest,\n",
        "                          max_evals=10,\n",
        "                          trial_timeout=300)\n",
        "\n",
        "estim_knn_ww.fit(X_train, y_train)\n",
        "estim_lsvr_ww.fit(X_train, y_train)\n",
        "\n",
        "X_train, X_test, y_train, y_test = train_test_split(X, y, test_size=0.33, random_state=42)\n",
        "\n",
        "print(estim_knn_ww.score(X_test, y_test))\n",
        "print(estim_knn_ww.best_model())\n",
        "\n",
        "nmse_score = cross_val_score(estim_knn_ww.best_model()[\"learner\"], X, y, cv=5, scoring='neg_mean_squared_error')\n",
        "r2_score = cross_val_score(estim_knn_ww.best_model()[\"learner\"], X, y, cv=5, scoring='r2')\n",
        "\n",
        "knn_nmse_ww = sum(nmse_score)/len(nmse_score)\n",
        "knn_r2_ww = sum(r2_score)/len(r2_score)\n",
        "\n",
        "print(\"KNN\")\n",
        "print(\"nmse:\", knn_nmse_ww)\n",
        "print(\"r2:\", knn_r2_ww)\n",
        "\n",
        "print(estim_lsvr_ww.score(X_test, y_test))\n",
        "print(estim_lsvr_ww.best_model())\n",
        "\n",
        "nmse_score = cross_val_score(estim_lsvr_ww.best_model()[\"learner\"], X, y, cv=5, scoring='neg_mean_squared_error')\n",
        "r2_score = cross_val_score(estim_lsvr_ww.best_model()[\"learner\"], X, y, cv=5, scoring='r2')\n",
        "\n",
        "linSVR_nmse_ww = sum(nmse_score)/len(nmse_score)\n",
        "linSVR_r2_ww = sum(r2_score)/len(r2_score)\n",
        "\n",
        "print(\"LinearSVR\")\n",
        "print(\"nmse:\", linSVR_nmse_ww)\n",
        "print(\"r2:\", linSVR_r2_ww)\n",
        "\n",
        "allScores_white = []\n",
        "allScores_white.append(linSVR_nmse_ww)\n",
        "allScores_white.append(knn_nmse_ww)\n",
        "allScores_white.append(linSVR_r2_ww)\n",
        "allScores_white.append(knn_r2_ww)"
      ]
    },
    {
      "cell_type": "code",
      "execution_count": null,
      "metadata": {},
      "outputs": [],
      "source": [
        "fig = plt.figure()\n",
        "ax = fig.add_axes([0,0,1,1])\n",
        "\n",
        "x = ['LinearSVR_nmse', 'KNN_nmse','LinearSVR_r2', 'KNN_r2']\n",
        "y = allScores_white\n",
        "\n",
        "ax.bar(x,y)\n",
        "fig.suptitle('Hyperopt white wine', fontsize=16)\n",
        "plt.setp(ax.get_xticklabels(), rotation=30, horizontalalignment='right')\n",
        "plt.show()"
      ]
    },
    {
      "cell_type": "markdown",
      "metadata": {
        "id": "LEurIzAuQhmX"
      },
      "source": [
        "**Red wine dataset**"
      ]
    },
    {
      "cell_type": "code",
      "execution_count": null,
      "metadata": {
        "id": "JyG9LRtOQgzj"
      },
      "outputs": [],
      "source": [
        "X = np.loadtxt('../../datasets/wine/wine_red_input.data',delimiter=\";\")\n",
        "y = np.loadtxt('../../datasets/wine/wine_red_classes.data',delimiter=\";\")\n",
        "\n",
        "X_train, X_test, y_train, y_test = train_test_split(X, y, test_size=0.33, random_state=42)\n",
        "\n",
        "estim_knn_wr = HyperoptEstimator(regressor=k_neighbors_regressor(\"knn-reg\"),\n",
        "                          preprocessing=[],\n",
        "                          algo=tpe.suggest,\n",
        "                          max_evals=10,\n",
        "                          trial_timeout=300)\n",
        "\n",
        "estim_lsvr_wr = HyperoptEstimator(regressor=linear_svr(\"lsvr-reg\"),\n",
        "                          preprocessing=[],\n",
        "                          algo=tpe.suggest,\n",
        "                          max_evals=10,\n",
        "                          trial_timeout=300)\n",
        "\n",
        "estim_knn_wr.fit(X_train, y_train)\n",
        "estim_lsvr_wr.fit(X_train, y_train)\n",
        "\n",
        "X_train, X_test, y_train, y_test = train_test_split(X, y, test_size=0.33, random_state=42)\n",
        "\n",
        "print(estim_knn_wr.score(X_test, y_test))\n",
        "print(estim_knn_wr.best_model())\n",
        "\n",
        "nmse_score = cross_val_score(estim_knn_wr.best_model()[\"learner\"], X, y, cv=5, scoring='neg_mean_squared_error')\n",
        "r2_score = cross_val_score(estim_knn_wr.best_model()[\"learner\"], X, y, cv=5, scoring='r2')\n",
        "\n",
        "knn_nmse_wr = sum(nmse_score)/len(nmse_score)\n",
        "knn_r2_wr = sum(r2_score)/len(r2_score)\n",
        "\n",
        "print(\"KNN\")\n",
        "print(\"nmse:\", knn_nmse_wr)\n",
        "print(\"r2:\", knn_r2_wr)\n",
        "\n",
        "print(estim_lsvr_wr.score(X_test, y_test))\n",
        "print(estim_lsvr_wr.best_model())\n",
        "\n",
        "nmse_score = cross_val_score(estim_lsvr_wr.best_model()[\"learner\"], X, y, cv=5, scoring='neg_mean_squared_error')\n",
        "r2_score = cross_val_score(estim_lsvr_wr.best_model()[\"learner\"], X, y, cv=5, scoring='r2')\n",
        "\n",
        "linSVR_nmse_wr = sum(nmse_score)/len(nmse_score)\n",
        "linSVR_r2_wr = sum(r2_score)/len(r2_score)\n",
        "\n",
        "print(\"LinearSVR\")\n",
        "print(\"nmse:\", linSVR_nmse_wr)\n",
        "print(\"r2:\", linSVR_r2_wr)\n",
        "\n",
        "allScores_red = []\n",
        "allScores_red.append(linSVR_nmse_wr)\n",
        "allScores_red.append(knn_nmse_wr)\n",
        "allScores_red.append(linSVR_r2_wr)\n",
        "allScores_red.append(knn_r2_wr)"
      ]
    },
    {
      "cell_type": "code",
      "execution_count": null,
      "metadata": {},
      "outputs": [],
      "source": [
        "fig = plt.figure()\n",
        "ax = fig.add_axes([0,0,1,1])\n",
        "\n",
        "x = ['LinearSVR_nmse', 'KNN_nmse','LinearSVR_r2', 'KNN_r2']\n",
        "y = allScores_red\n",
        "\n",
        "ax.bar(x,y)\n",
        "fig.suptitle('Hyperopt red wine', fontsize=16)\n",
        "plt.setp(ax.get_xticklabels(), rotation=30, horizontalalignment='right')\n",
        "plt.show()"
      ]
    }
  ],
  "metadata": {
    "colab": {
      "collapsed_sections": [],
      "name": "ML-exercise-2-hyperopt.ipynb",
      "provenance": []
    },
    "kernelspec": {
      "display_name": "Python 3",
      "name": "python3"
    },
    "language_info": {
      "codemirror_mode": {
        "name": "ipython",
        "version": 3
      },
      "file_extension": ".py",
      "mimetype": "text/x-python",
      "name": "python",
      "nbconvert_exporter": "python",
      "pygments_lexer": "ipython3",
      "version": "3.9.12"
    }
  },
  "nbformat": 4,
  "nbformat_minor": 0
}
