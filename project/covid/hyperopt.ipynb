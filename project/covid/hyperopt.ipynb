{
  "cells": [
    {
      "cell_type": "markdown",
      "metadata": {
        "id": "7NfPF6u5EqBg"
      },
      "source": [
        "**Install hyperopt-sklearn**"
      ]
    },
    {
      "cell_type": "code",
      "execution_count": null,
      "metadata": {
        "id": "Gik8sP94Cug7"
      },
      "outputs": [],
      "source": [
        "#!pip install git+https://github.com/hyperopt/hyperopt-sklearn"
      ]
    },
    {
      "cell_type": "markdown",
      "metadata": {
        "id": "O6PsGCqoFlYu"
      },
      "source": [
        "**Imports**"
      ]
    },
    {
      "cell_type": "code",
      "execution_count": null,
      "metadata": {
        "id": "lCH_3LM8FqaP"
      },
      "outputs": [],
      "source": [
        "import io\n",
        "import numpy as np\n",
        "import matplotlib.pyplot as plt\n",
        "\n",
        "from hyperopt import tpe\n",
        "from hpsklearn import HyperoptEstimator, k_neighbors_regressor, linear_svr\n",
        "from sklearn.model_selection import cross_val_score, train_test_split"
      ]
    },
    {
      "cell_type": "markdown",
      "metadata": {
        "id": "ckBJfRlYTG7R"
      },
      "source": [
        "**Covid dataset**"
      ]
    },
    {
      "cell_type": "code",
      "execution_count": null,
      "metadata": {
        "id": "rph1sHJlTJye"
      },
      "outputs": [],
      "source": [
        "X = np.loadtxt('../../datasets/covid/covid-vaccination-vs-death_ratio_input.data',delimiter=\";\")\n",
        "y = np.loadtxt('../../datasets/covid/covid-vaccination-vs-death_ratio_classes.data',delimiter=\";\")\n",
        "\n",
        "X_train, X_test, y_train, y_test = train_test_split(X, y, test_size=0.33, random_state=42)\n",
        "\n",
        "estim_knn_c = HyperoptEstimator(regressor=k_neighbors_regressor(\"knn-reg\"),\n",
        "                          preprocessing=[],\n",
        "                          algo=tpe.suggest,\n",
        "                          max_evals=10,\n",
        "                          trial_timeout=300)\n",
        "\n",
        "estim_lsvr_c = HyperoptEstimator(regressor=linear_svr(\"lsvr-reg\"),\n",
        "                          preprocessing=[],\n",
        "                          algo=tpe.suggest,\n",
        "                          max_evals=10,\n",
        "                          trial_timeout=300)\n",
        "\n",
        "estim_knn_c.fit(X_train, y_train)\n",
        "estim_lsvr_c.fit(X_train, y_train)\n",
        "\n",
        "X_train, X_test, y_train, y_test = train_test_split(X, y, test_size=0.33, random_state=42)\n",
        "\n",
        "print(estim_knn_c.score(X_test, y_test))\n",
        "print(estim_knn_c.best_model())\n",
        "\n",
        "nmse_score = cross_val_score(estim_knn_c.best_model()[\"learner\"], X, y, cv=5, scoring='neg_mean_squared_error')\n",
        "r2_score = cross_val_score(estim_knn_c.best_model()[\"learner\"], X, y, cv=5, scoring='r2')\n",
        "\n",
        "knn_nmse = sum(nmse_score)/len(nmse_score)\n",
        "knn_r2 = sum(r2_score)/len(r2_score)\n",
        "\n",
        "print(\"KNN\")\n",
        "print(\"nmse:\", knn_nmse)\n",
        "print(\"r2:\", knn_r2)\n",
        "\n",
        "print(estim_lsvr_c.score(X_test, y_test))\n",
        "print(estim_lsvr_c.best_model())\n",
        "\n",
        "nmse_score = cross_val_score(estim_lsvr_c.best_model()[\"learner\"], X, y, cv=5, scoring='neg_mean_squared_error')\n",
        "r2_score = cross_val_score(estim_lsvr_c.best_model()[\"learner\"], X, y, cv=5, scoring='r2')\n",
        "\n",
        "linSVR_nmse = sum(nmse_score)/len(nmse_score)\n",
        "linSVR_r2 = sum(r2_score)/len(r2_score)\n",
        "\n",
        "print(\"LinearSVR\")\n",
        "print(\"nmse:\", linSVR_nmse)\n",
        "print(\"r2:\", linSVR_r2)\n",
        "\n",
        "allScores = []\n",
        "allScores.append(linSVR_nmse)\n",
        "allScores.append(knn_nmse)\n",
        "allScores.append(linSVR_r2)\n",
        "allScores.append(knn_r2)"
      ]
    },
    {
      "cell_type": "code",
      "execution_count": null,
      "metadata": {},
      "outputs": [],
      "source": [
        "fig = plt.figure()\n",
        "ax = fig.add_axes([0,0,1,1])\n",
        "\n",
        "x = ['LinearSVR_nmse', 'KNN_nmse','LinearSVR_r2', 'KNN_r2']\n",
        "y = allScores\n",
        "\n",
        "ax.bar(x,y)\n",
        "fig.suptitle('Hyperopt Covid', fontsize=16)\n",
        "plt.setp(ax.get_xticklabels(), rotation=30, horizontalalignment='right')\n",
        "plt.show()"
      ]
    }
  ],
  "metadata": {
    "colab": {
      "collapsed_sections": [],
      "name": "ML-exercise-2-hyperopt.ipynb",
      "provenance": []
    },
    "kernelspec": {
      "display_name": "Python 3",
      "name": "python3"
    },
    "language_info": {
      "codemirror_mode": {
        "name": "ipython",
        "version": 3
      },
      "file_extension": ".py",
      "mimetype": "text/x-python",
      "name": "python",
      "nbconvert_exporter": "python",
      "pygments_lexer": "ipython3",
      "version": "3.9.12"
    }
  },
  "nbformat": 4,
  "nbformat_minor": 0
}
